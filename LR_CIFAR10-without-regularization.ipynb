{
  "nbformat": 4,
  "nbformat_minor": 0,
  "metadata": {
    "colab": {
      "name": "LR-CIFAR10.ipynb",
      "provenance": [],
      "collapsed_sections": []
    },
    "kernelspec": {
      "name": "python3",
      "display_name": "Python 3"
    },
    "language_info": {
      "name": "python"
    },
    "widgets": {
      "application/vnd.jupyter.widget-state+json": {
        "d21e646a8c5541b2a17805e250d74b45": {
          "model_module": "@jupyter-widgets/controls",
          "model_name": "HBoxModel",
          "model_module_version": "1.5.0",
          "state": {
            "_view_name": "HBoxView",
            "_dom_classes": [],
            "_model_name": "HBoxModel",
            "_view_module": "@jupyter-widgets/controls",
            "_model_module_version": "1.5.0",
            "_view_count": null,
            "_view_module_version": "1.5.0",
            "box_style": "",
            "layout": "IPY_MODEL_3c7d37ca2ba24873956b91231cbf503c",
            "_model_module": "@jupyter-widgets/controls",
            "children": [
              "IPY_MODEL_c98bc5b72af44a9abd7ca1fbec265bd8",
              "IPY_MODEL_75043ad284d645f98869f8fe125b38a3",
              "IPY_MODEL_989c4e92705a476089ca947ca00a9b51"
            ]
          }
        },
        "3c7d37ca2ba24873956b91231cbf503c": {
          "model_module": "@jupyter-widgets/base",
          "model_name": "LayoutModel",
          "model_module_version": "1.2.0",
          "state": {
            "_view_name": "LayoutView",
            "grid_template_rows": null,
            "right": null,
            "justify_content": null,
            "_view_module": "@jupyter-widgets/base",
            "overflow": null,
            "_model_module_version": "1.2.0",
            "_view_count": null,
            "flex_flow": null,
            "width": null,
            "min_width": null,
            "border": null,
            "align_items": null,
            "bottom": null,
            "_model_module": "@jupyter-widgets/base",
            "top": null,
            "grid_column": null,
            "overflow_y": null,
            "overflow_x": null,
            "grid_auto_flow": null,
            "grid_area": null,
            "grid_template_columns": null,
            "flex": null,
            "_model_name": "LayoutModel",
            "justify_items": null,
            "grid_row": null,
            "max_height": null,
            "align_content": null,
            "visibility": null,
            "align_self": null,
            "height": null,
            "min_height": null,
            "padding": null,
            "grid_auto_rows": null,
            "grid_gap": null,
            "max_width": null,
            "order": null,
            "_view_module_version": "1.2.0",
            "grid_template_areas": null,
            "object_position": null,
            "object_fit": null,
            "grid_auto_columns": null,
            "margin": null,
            "display": null,
            "left": null
          }
        },
        "c98bc5b72af44a9abd7ca1fbec265bd8": {
          "model_module": "@jupyter-widgets/controls",
          "model_name": "HTMLModel",
          "model_module_version": "1.5.0",
          "state": {
            "_view_name": "HTMLView",
            "style": "IPY_MODEL_01ba8b89beaa43f4a771d7e16ad7da63",
            "_dom_classes": [],
            "description": "",
            "_model_name": "HTMLModel",
            "placeholder": "​",
            "_view_module": "@jupyter-widgets/controls",
            "_model_module_version": "1.5.0",
            "value": "",
            "_view_count": null,
            "_view_module_version": "1.5.0",
            "description_tooltip": null,
            "_model_module": "@jupyter-widgets/controls",
            "layout": "IPY_MODEL_559058abe45d4bd79fee392668a78a09"
          }
        },
        "75043ad284d645f98869f8fe125b38a3": {
          "model_module": "@jupyter-widgets/controls",
          "model_name": "FloatProgressModel",
          "model_module_version": "1.5.0",
          "state": {
            "_view_name": "ProgressView",
            "style": "IPY_MODEL_ff1c4bcb670b492b8af776d93306cb21",
            "_dom_classes": [],
            "description": "",
            "_model_name": "FloatProgressModel",
            "bar_style": "success",
            "max": 170498071,
            "_view_module": "@jupyter-widgets/controls",
            "_model_module_version": "1.5.0",
            "value": 170498071,
            "_view_count": null,
            "_view_module_version": "1.5.0",
            "orientation": "horizontal",
            "min": 0,
            "description_tooltip": null,
            "_model_module": "@jupyter-widgets/controls",
            "layout": "IPY_MODEL_eb370503068b4d19a6cffeea0f6af01b"
          }
        },
        "989c4e92705a476089ca947ca00a9b51": {
          "model_module": "@jupyter-widgets/controls",
          "model_name": "HTMLModel",
          "model_module_version": "1.5.0",
          "state": {
            "_view_name": "HTMLView",
            "style": "IPY_MODEL_12e88ff8c5ee4b4c84de8d14f9c3f3b2",
            "_dom_classes": [],
            "description": "",
            "_model_name": "HTMLModel",
            "placeholder": "​",
            "_view_module": "@jupyter-widgets/controls",
            "_model_module_version": "1.5.0",
            "value": " 170499072/? [00:02&lt;00:00, 71364960.72it/s]",
            "_view_count": null,
            "_view_module_version": "1.5.0",
            "description_tooltip": null,
            "_model_module": "@jupyter-widgets/controls",
            "layout": "IPY_MODEL_e6f945a6d1e54268af0ad5919cb240dd"
          }
        },
        "01ba8b89beaa43f4a771d7e16ad7da63": {
          "model_module": "@jupyter-widgets/controls",
          "model_name": "DescriptionStyleModel",
          "model_module_version": "1.5.0",
          "state": {
            "_view_name": "StyleView",
            "_model_name": "DescriptionStyleModel",
            "description_width": "",
            "_view_module": "@jupyter-widgets/base",
            "_model_module_version": "1.5.0",
            "_view_count": null,
            "_view_module_version": "1.2.0",
            "_model_module": "@jupyter-widgets/controls"
          }
        },
        "559058abe45d4bd79fee392668a78a09": {
          "model_module": "@jupyter-widgets/base",
          "model_name": "LayoutModel",
          "model_module_version": "1.2.0",
          "state": {
            "_view_name": "LayoutView",
            "grid_template_rows": null,
            "right": null,
            "justify_content": null,
            "_view_module": "@jupyter-widgets/base",
            "overflow": null,
            "_model_module_version": "1.2.0",
            "_view_count": null,
            "flex_flow": null,
            "width": null,
            "min_width": null,
            "border": null,
            "align_items": null,
            "bottom": null,
            "_model_module": "@jupyter-widgets/base",
            "top": null,
            "grid_column": null,
            "overflow_y": null,
            "overflow_x": null,
            "grid_auto_flow": null,
            "grid_area": null,
            "grid_template_columns": null,
            "flex": null,
            "_model_name": "LayoutModel",
            "justify_items": null,
            "grid_row": null,
            "max_height": null,
            "align_content": null,
            "visibility": null,
            "align_self": null,
            "height": null,
            "min_height": null,
            "padding": null,
            "grid_auto_rows": null,
            "grid_gap": null,
            "max_width": null,
            "order": null,
            "_view_module_version": "1.2.0",
            "grid_template_areas": null,
            "object_position": null,
            "object_fit": null,
            "grid_auto_columns": null,
            "margin": null,
            "display": null,
            "left": null
          }
        },
        "ff1c4bcb670b492b8af776d93306cb21": {
          "model_module": "@jupyter-widgets/controls",
          "model_name": "ProgressStyleModel",
          "model_module_version": "1.5.0",
          "state": {
            "_view_name": "StyleView",
            "_model_name": "ProgressStyleModel",
            "description_width": "",
            "_view_module": "@jupyter-widgets/base",
            "_model_module_version": "1.5.0",
            "_view_count": null,
            "_view_module_version": "1.2.0",
            "bar_color": null,
            "_model_module": "@jupyter-widgets/controls"
          }
        },
        "eb370503068b4d19a6cffeea0f6af01b": {
          "model_module": "@jupyter-widgets/base",
          "model_name": "LayoutModel",
          "model_module_version": "1.2.0",
          "state": {
            "_view_name": "LayoutView",
            "grid_template_rows": null,
            "right": null,
            "justify_content": null,
            "_view_module": "@jupyter-widgets/base",
            "overflow": null,
            "_model_module_version": "1.2.0",
            "_view_count": null,
            "flex_flow": null,
            "width": null,
            "min_width": null,
            "border": null,
            "align_items": null,
            "bottom": null,
            "_model_module": "@jupyter-widgets/base",
            "top": null,
            "grid_column": null,
            "overflow_y": null,
            "overflow_x": null,
            "grid_auto_flow": null,
            "grid_area": null,
            "grid_template_columns": null,
            "flex": null,
            "_model_name": "LayoutModel",
            "justify_items": null,
            "grid_row": null,
            "max_height": null,
            "align_content": null,
            "visibility": null,
            "align_self": null,
            "height": null,
            "min_height": null,
            "padding": null,
            "grid_auto_rows": null,
            "grid_gap": null,
            "max_width": null,
            "order": null,
            "_view_module_version": "1.2.0",
            "grid_template_areas": null,
            "object_position": null,
            "object_fit": null,
            "grid_auto_columns": null,
            "margin": null,
            "display": null,
            "left": null
          }
        },
        "12e88ff8c5ee4b4c84de8d14f9c3f3b2": {
          "model_module": "@jupyter-widgets/controls",
          "model_name": "DescriptionStyleModel",
          "model_module_version": "1.5.0",
          "state": {
            "_view_name": "StyleView",
            "_model_name": "DescriptionStyleModel",
            "description_width": "",
            "_view_module": "@jupyter-widgets/base",
            "_model_module_version": "1.5.0",
            "_view_count": null,
            "_view_module_version": "1.2.0",
            "_model_module": "@jupyter-widgets/controls"
          }
        },
        "e6f945a6d1e54268af0ad5919cb240dd": {
          "model_module": "@jupyter-widgets/base",
          "model_name": "LayoutModel",
          "model_module_version": "1.2.0",
          "state": {
            "_view_name": "LayoutView",
            "grid_template_rows": null,
            "right": null,
            "justify_content": null,
            "_view_module": "@jupyter-widgets/base",
            "overflow": null,
            "_model_module_version": "1.2.0",
            "_view_count": null,
            "flex_flow": null,
            "width": null,
            "min_width": null,
            "border": null,
            "align_items": null,
            "bottom": null,
            "_model_module": "@jupyter-widgets/base",
            "top": null,
            "grid_column": null,
            "overflow_y": null,
            "overflow_x": null,
            "grid_auto_flow": null,
            "grid_area": null,
            "grid_template_columns": null,
            "flex": null,
            "_model_name": "LayoutModel",
            "justify_items": null,
            "grid_row": null,
            "max_height": null,
            "align_content": null,
            "visibility": null,
            "align_self": null,
            "height": null,
            "min_height": null,
            "padding": null,
            "grid_auto_rows": null,
            "grid_gap": null,
            "max_width": null,
            "order": null,
            "_view_module_version": "1.2.0",
            "grid_template_areas": null,
            "object_position": null,
            "object_fit": null,
            "grid_auto_columns": null,
            "margin": null,
            "display": null,
            "left": null
          }
        }
      }
    }
  },
  "cells": [
    {
      "cell_type": "code",
      "metadata": {
        "colab": {
          "base_uri": "https://localhost:8080/",
          "height": 99,
          "referenced_widgets": [
            "d21e646a8c5541b2a17805e250d74b45",
            "3c7d37ca2ba24873956b91231cbf503c",
            "c98bc5b72af44a9abd7ca1fbec265bd8",
            "75043ad284d645f98869f8fe125b38a3",
            "989c4e92705a476089ca947ca00a9b51",
            "01ba8b89beaa43f4a771d7e16ad7da63",
            "559058abe45d4bd79fee392668a78a09",
            "ff1c4bcb670b492b8af776d93306cb21",
            "eb370503068b4d19a6cffeea0f6af01b",
            "12e88ff8c5ee4b4c84de8d14f9c3f3b2",
            "e6f945a6d1e54268af0ad5919cb240dd"
          ]
        },
        "id": "EptlwQwxWKkU",
        "outputId": "227d102c-fd08-435f-e2b3-60911e784775"
      },
      "source": [
        "import torch\n",
        "import torchvision\n",
        "import torch.nn as nn\n",
        "import torch.nn.functional as F\n",
        "import torchvision.transforms as transforms\n",
        "\n",
        "# define CIFAR10 Dataset and load\n",
        "transform = transforms.Compose([transforms.ToTensor(), transforms.Normalize((0.5,0.5,0.5),(0.5,0.5,0.5))])\n",
        "batch_size = 4\n",
        "Train_Dataset = torchvision.datasets.CIFAR10(root = './data',train = True,\n",
        "                                            download=True, transform=transform)\n",
        "\n",
        "Test_Dataset = torchvision.datasets.CIFAR10(root = './data', train = False,\n",
        "                                            download=True, transform=transform)\n",
        "\n",
        "Train_loader = torch.utils.data.DataLoader(Train_Dataset, batch_size=batch_size,\n",
        "                                           shuffle=True, num_workers=2)\n",
        "\n",
        "Test_loader = torch.utils.data.DataLoader(Test_Dataset, batch_size = batch_size,\n",
        "                                          shuffle=False, num_workers=2)\n",
        "\n",
        "classes= ('plane','car','bird','cat','deer','dog','frog','horse','ship','truck')\n",
        "\n"
      ],
      "execution_count": 1,
      "outputs": [
        {
          "output_type": "stream",
          "name": "stdout",
          "text": [
            "Downloading https://www.cs.toronto.edu/~kriz/cifar-10-python.tar.gz to ./data/cifar-10-python.tar.gz\n"
          ]
        },
        {
          "output_type": "display_data",
          "data": {
            "application/vnd.jupyter.widget-view+json": {
              "model_id": "d21e646a8c5541b2a17805e250d74b45",
              "version_minor": 0,
              "version_major": 2
            },
            "text/plain": [
              "  0%|          | 0/170498071 [00:00<?, ?it/s]"
            ]
          },
          "metadata": {}
        },
        {
          "output_type": "stream",
          "name": "stdout",
          "text": [
            "Extracting ./data/cifar-10-python.tar.gz to ./data\n",
            "Files already downloaded and verified\n"
          ]
        }
      ]
    },
    {
      "cell_type": "code",
      "metadata": {
        "id": "KXB4tmwqY0EM"
      },
      "source": [
        "#Define Convolutional Neural Network\n",
        "class Net(nn.Module):\n",
        "  def __init__(self):\n",
        "    super().__init__()\n",
        "    self.conv1 = nn.Conv2d(3,6,5)\n",
        "    self.pool = nn.MaxPool2d(2,2)\n",
        "    self.conv2 = nn.Conv2d(6,16,5)\n",
        "    self.fc1 = nn.Linear(16*5*5, 120)\n",
        "    self.fc2 = nn.Linear(120,84)\n",
        "    self.fc3 = nn.Linear(84,10)\n",
        "\n",
        "\n",
        "  def forward(self,x):\n",
        "    x = self.pool(F.relu(self.conv1(x)))\n",
        "    x = self.pool(F.relu(self.conv2(x)))\n",
        "    x = torch.flatten(x,1)\n",
        "    x = F.relu(self.fc1(x))\n",
        "    x = F.relu(self.fc2(x))\n",
        "    x= self.fc3(x)\n",
        "    return x\n",
        "\n",
        "net = Net()\n"
      ],
      "execution_count": 2,
      "outputs": []
    },
    {
      "cell_type": "code",
      "metadata": {
        "id": "HRUej5dlaTf1"
      },
      "source": [
        "#Lost Function and Optimizer\n",
        "import torch.optim as optim\n",
        "learning_rate = 0.001\n",
        "momentum = 0.9\n",
        "weight = 0.01\n",
        "criterion = nn.CrossEntropyLoss()\n",
        "\n",
        "# without regularization\n",
        "optimizer = optim.SGD(net.parameters(),lr=learning_rate,momentum=momentum)"
      ],
      "execution_count": 3,
      "outputs": []
    },
    {
      "cell_type": "code",
      "metadata": {
        "colab": {
          "base_uri": "https://localhost:8080/"
        },
        "id": "5Y76_eJ4atvC",
        "outputId": "6fa16743-7c0b-4747-d88a-246cdb4c13b3"
      },
      "source": [
        "#Training\n",
        "\n",
        "# get some random training images\n",
        "dataiter = iter(Train_loader)\n",
        "images, labels = dataiter.next()\n",
        "\n",
        "for epoch in range(2):\n",
        "  loss = 0.0\n",
        "  for i,data in enumerate(Train_loader,0):\n",
        "    # get the inputs\n",
        "    inputs,labels = data\n",
        "    # zero the parameter gradients\n",
        "    optimizer.zero_grad()\n",
        "\n",
        "    outputs = net(inputs)\n",
        "    loss_func = criterion(outputs,labels)\n",
        "    loss_func.backward()\n",
        "    optimizer.step()\n",
        "\n",
        "    loss +=loss_func.item()\n",
        "    if i % 1000 == 999:    # print every 1000 mini-batches\n",
        "      print('[%d, %5d] loss: %.3f' %\n",
        "      (epoch + 1, i + 1, loss / 2000))\n",
        "      loss = 0.0\n",
        "\n",
        "\n",
        "print('Training done !')"
      ],
      "execution_count": 4,
      "outputs": [
        {
          "output_type": "stream",
          "name": "stdout",
          "text": [
            "[1,  1000] loss: 1.151\n",
            "[1,  2000] loss: 1.087\n",
            "[1,  3000] loss: 0.983\n",
            "[1,  4000] loss: 0.935\n",
            "[1,  5000] loss: 0.853\n",
            "[1,  6000] loss: 0.846\n",
            "[1,  7000] loss: 0.798\n",
            "[1,  8000] loss: 0.805\n",
            "[1,  9000] loss: 0.779\n",
            "[1, 10000] loss: 0.772\n",
            "[1, 11000] loss: 0.748\n",
            "[1, 12000] loss: 0.745\n",
            "[2,  1000] loss: 0.708\n",
            "[2,  2000] loss: 0.697\n",
            "[2,  3000] loss: 0.697\n",
            "[2,  4000] loss: 0.680\n",
            "[2,  5000] loss: 0.683\n",
            "[2,  6000] loss: 0.680\n",
            "[2,  7000] loss: 0.677\n",
            "[2,  8000] loss: 0.672\n",
            "[2,  9000] loss: 0.649\n",
            "[2, 10000] loss: 0.663\n",
            "[2, 11000] loss: 0.655\n",
            "[2, 12000] loss: 0.650\n",
            "Training done !\n"
          ]
        }
      ]
    },
    {
      "cell_type": "code",
      "metadata": {
        "colab": {
          "base_uri": "https://localhost:8080/"
        },
        "id": "FeEg1NcolJUE",
        "outputId": "6dec0ddc-2294-43b0-8d09-fc1df63d593a"
      },
      "source": [
        "#Accuracy\n",
        "correct = 0\n",
        "total = 0\n",
        "\n",
        "with torch.no_grad():\n",
        "  for data in Test_loader:\n",
        "    images,labels = data\n",
        "    outputs = net(images)\n",
        "\n",
        "    _,predicted = torch.max(outputs.data,1)\n",
        "    total += labels.size(0)\n",
        "    correct += (predicted == labels).sum()\n",
        "accuracy = 100*(correct.item()/ total)\n",
        "\n",
        "print('Accuracy of the network on the 10000 test images:',accuracy)"
      ],
      "execution_count": 5,
      "outputs": [
        {
          "output_type": "stream",
          "name": "stdout",
          "text": [
            "Accuracy of the network on the 10000 test images: 55.38999999999999\n"
          ]
        }
      ]
    },
    {
      "cell_type": "code",
      "metadata": {
        "colab": {
          "base_uri": "https://localhost:8080/"
        },
        "id": "eFs0nDo3nFin",
        "outputId": "552244fd-f821-433b-d1c4-871139677611"
      },
      "source": [
        "# prepare to count predictions for each class\n",
        "correct_class = {classname: 0 for classname in classes}\n",
        "total_class = {classname: 0 for classname in classes}\n",
        "\n",
        "# again no gradients needed\n",
        "with torch.no_grad():\n",
        "    for data in Test_loader:\n",
        "        images, labels = data\n",
        "        outputs = net(images)\n",
        "        _, predictions = torch.max(outputs, 1)\n",
        "\n",
        "        # collect the correct predictions for each class\n",
        "        for label, prediction in zip(labels, predictions):\n",
        "            if label == prediction:\n",
        "                correct_class[classes[label]] += 1\n",
        "            total_class[classes[label]] += 1\n",
        "\n",
        "\n",
        "# print accuracy for each class\n",
        "for classname, correct_count in correct_class.items():\n",
        "    accuracy_classes = 100 * float(correct_count) / total_class[classname]\n",
        "    print(\"Accuracy for class {:5s} is: {:.1f} %\".format(classname,\n",
        "                                                   accuracy_classes))"
      ],
      "execution_count": 6,
      "outputs": [
        {
          "output_type": "stream",
          "name": "stdout",
          "text": [
            "Accuracy for class plane is: 55.5 %\n",
            "Accuracy for class car   is: 81.0 %\n",
            "Accuracy for class bird  is: 26.4 %\n",
            "Accuracy for class cat   is: 50.3 %\n",
            "Accuracy for class deer  is: 54.8 %\n",
            "Accuracy for class dog   is: 42.0 %\n",
            "Accuracy for class frog  is: 62.0 %\n",
            "Accuracy for class horse is: 64.1 %\n",
            "Accuracy for class ship  is: 68.8 %\n",
            "Accuracy for class truck is: 49.0 %\n"
          ]
        }
      ]
    }
  ]
}