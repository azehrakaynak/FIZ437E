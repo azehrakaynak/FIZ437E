{
  "nbformat": 4,
  "nbformat_minor": 0,
  "metadata": {
    "colab": {
      "name": "Untitled12.ipynb",
      "provenance": [],
      "collapsed_sections": []
    },
    "kernelspec": {
      "name": "python3",
      "display_name": "Python 3"
    },
    "language_info": {
      "name": "python"
    }
  },
  "cells": [
    {
      "cell_type": "markdown",
      "metadata": {
        "id": "zlJJHSDNjqRN"
      },
      "source": [
        "**SVM with MNIST Dataset**"
      ]
    },
    {
      "cell_type": "code",
      "metadata": {
        "id": "jdiZzs1nIUbL"
      },
      "source": [
        "import numpy as np\n",
        "import seaborn as sn\n",
        "import pandas as pd\n",
        "import tensorflow as tf\n",
        "import matplotlib.pyplot as plt\n",
        "\n",
        "from sklearn.svm import SVC, LinearSVC\n",
        "from sklearn.metrics import accuracy_score"
      ],
      "execution_count": 3,
      "outputs": []
    },
    {
      "cell_type": "code",
      "metadata": {
        "id": "MOsyR2jjI3HC"
      },
      "source": [
        "#get MNIST Dataset\n",
        "(train_dataset, train_labels),(test_dataset,test_labels)=tf.keras.datasets.mnist.load_data()\n",
        "train_dataset, test_dataset = np.array(train_dataset, np.float32),np.array(test_dataset,np.float32)\n",
        "\n",
        "#Formatting and normalization\n",
        "train_dataset = (train_dataset.reshape([-1,784]))/255.0\n",
        "test_dataset = (test_dataset.reshape([-1,784]))/255.0\n"
      ],
      "execution_count": 11,
      "outputs": []
    },
    {
      "cell_type": "code",
      "metadata": {
        "colab": {
          "base_uri": "https://localhost:8080/"
        },
        "id": "uPuNDa90KCzm",
        "outputId": "b0421d71-1166-47aa-f5fb-4e091725a5d9"
      },
      "source": [
        "#SVM\n",
        "svm = LinearSVC(dual=False,random_state=0,C=1.0)\n",
        "svm.fit(train_dataset,train_labels)"
      ],
      "execution_count": 12,
      "outputs": [
        {
          "output_type": "execute_result",
          "data": {
            "text/plain": [
              "LinearSVC(dual=False, random_state=0)"
            ]
          },
          "metadata": {},
          "execution_count": 12
        }
      ]
    },
    {
      "cell_type": "code",
      "metadata": {
        "colab": {
          "base_uri": "https://localhost:8080/"
        },
        "id": "fteEQxOyKfx8",
        "outputId": "fea4048b-359b-4d25-ed96-7945da6b76b0"
      },
      "source": [
        "# Control for MNIST Dataset\n",
        "n_train = len(train_dataset)\n",
        "n_test=len(test_dataset)\n",
        "print(\"Size of Train Dataset:\",n_train)\n",
        "print(\"Size of Test Dataset:\",n_test)"
      ],
      "execution_count": 13,
      "outputs": [
        {
          "output_type": "stream",
          "name": "stdout",
          "text": [
            "Size of Train Dataset: 60000\n",
            "Size of Test Dataset: 10000\n"
          ]
        }
      ]
    },
    {
      "cell_type": "code",
      "metadata": {
        "colab": {
          "base_uri": "https://localhost:8080/"
        },
        "id": "OQ1fQpT0K7ZW",
        "outputId": "95cd054e-d647-4774-8449-69da8b9ae970"
      },
      "source": [
        "#Accuracy\n",
        "prediction=svm.predict(test_dataset)\n",
        "print(\"accuracy:\",accuracy_score(test_labels,prediction))"
      ],
      "execution_count": 15,
      "outputs": [
        {
          "output_type": "stream",
          "name": "stdout",
          "text": [
            "accuracy: 0.9183\n"
          ]
        }
      ]
    },
    {
      "cell_type": "code",
      "metadata": {
        "id": "Lm3WBwV4R3yT"
      },
      "source": [
        ""
      ],
      "execution_count": null,
      "outputs": []
    }
  ]
}