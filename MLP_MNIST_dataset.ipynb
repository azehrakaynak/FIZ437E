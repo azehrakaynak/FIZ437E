{
  "nbformat": 4,
  "nbformat_minor": 0,
  "metadata": {
    "colab": {
      "name": "MLP_MNIST_dataset.ipynb",
      "provenance": [],
      "collapsed_sections": []
    },
    "kernelspec": {
      "name": "python3",
      "display_name": "Python 3"
    },
    "language_info": {
      "name": "python"
    },
    "widgets": {
      "application/vnd.jupyter.widget-state+json": {
        "caa64bf6d62b46dc81ef2dc9669935a6": {
          "model_module": "@jupyter-widgets/controls",
          "model_name": "HBoxModel",
          "model_module_version": "1.5.0",
          "state": {
            "_view_name": "HBoxView",
            "_dom_classes": [],
            "_model_name": "HBoxModel",
            "_view_module": "@jupyter-widgets/controls",
            "_model_module_version": "1.5.0",
            "_view_count": null,
            "_view_module_version": "1.5.0",
            "box_style": "",
            "layout": "IPY_MODEL_a4faf9133682422d8a997dd4ce096785",
            "_model_module": "@jupyter-widgets/controls",
            "children": [
              "IPY_MODEL_fab43d23cd8d492a8dfad6a70a1e9684",
              "IPY_MODEL_7e77444f8a224feba4e476845f927418",
              "IPY_MODEL_ead0cc7c82854580ad3db8db2009eee7"
            ]
          }
        },
        "a4faf9133682422d8a997dd4ce096785": {
          "model_module": "@jupyter-widgets/base",
          "model_name": "LayoutModel",
          "model_module_version": "1.2.0",
          "state": {
            "_view_name": "LayoutView",
            "grid_template_rows": null,
            "right": null,
            "justify_content": null,
            "_view_module": "@jupyter-widgets/base",
            "overflow": null,
            "_model_module_version": "1.2.0",
            "_view_count": null,
            "flex_flow": null,
            "width": null,
            "min_width": null,
            "border": null,
            "align_items": null,
            "bottom": null,
            "_model_module": "@jupyter-widgets/base",
            "top": null,
            "grid_column": null,
            "overflow_y": null,
            "overflow_x": null,
            "grid_auto_flow": null,
            "grid_area": null,
            "grid_template_columns": null,
            "flex": null,
            "_model_name": "LayoutModel",
            "justify_items": null,
            "grid_row": null,
            "max_height": null,
            "align_content": null,
            "visibility": null,
            "align_self": null,
            "height": null,
            "min_height": null,
            "padding": null,
            "grid_auto_rows": null,
            "grid_gap": null,
            "max_width": null,
            "order": null,
            "_view_module_version": "1.2.0",
            "grid_template_areas": null,
            "object_position": null,
            "object_fit": null,
            "grid_auto_columns": null,
            "margin": null,
            "display": null,
            "left": null
          }
        },
        "fab43d23cd8d492a8dfad6a70a1e9684": {
          "model_module": "@jupyter-widgets/controls",
          "model_name": "HTMLModel",
          "model_module_version": "1.5.0",
          "state": {
            "_view_name": "HTMLView",
            "style": "IPY_MODEL_19e419d091ae4906b7921a52003ca765",
            "_dom_classes": [],
            "description": "",
            "_model_name": "HTMLModel",
            "placeholder": "​",
            "_view_module": "@jupyter-widgets/controls",
            "_model_module_version": "1.5.0",
            "value": "",
            "_view_count": null,
            "_view_module_version": "1.5.0",
            "description_tooltip": null,
            "_model_module": "@jupyter-widgets/controls",
            "layout": "IPY_MODEL_2b4f27b203594ee39e2d3eddf95e5675"
          }
        },
        "7e77444f8a224feba4e476845f927418": {
          "model_module": "@jupyter-widgets/controls",
          "model_name": "FloatProgressModel",
          "model_module_version": "1.5.0",
          "state": {
            "_view_name": "ProgressView",
            "style": "IPY_MODEL_2bdc670ae4f64b11a82ee8e69b8840a8",
            "_dom_classes": [],
            "description": "",
            "_model_name": "FloatProgressModel",
            "bar_style": "success",
            "max": 9912422,
            "_view_module": "@jupyter-widgets/controls",
            "_model_module_version": "1.5.0",
            "value": 9912422,
            "_view_count": null,
            "_view_module_version": "1.5.0",
            "orientation": "horizontal",
            "min": 0,
            "description_tooltip": null,
            "_model_module": "@jupyter-widgets/controls",
            "layout": "IPY_MODEL_4498edab618a4006bf16d71e925d94d7"
          }
        },
        "ead0cc7c82854580ad3db8db2009eee7": {
          "model_module": "@jupyter-widgets/controls",
          "model_name": "HTMLModel",
          "model_module_version": "1.5.0",
          "state": {
            "_view_name": "HTMLView",
            "style": "IPY_MODEL_9b7fcef99135477c8c89be6c1632bcde",
            "_dom_classes": [],
            "description": "",
            "_model_name": "HTMLModel",
            "placeholder": "​",
            "_view_module": "@jupyter-widgets/controls",
            "_model_module_version": "1.5.0",
            "value": " 9913344/? [00:00&lt;00:00, 29786839.08it/s]",
            "_view_count": null,
            "_view_module_version": "1.5.0",
            "description_tooltip": null,
            "_model_module": "@jupyter-widgets/controls",
            "layout": "IPY_MODEL_d50b203854b2411ba4daafe2530d6570"
          }
        },
        "19e419d091ae4906b7921a52003ca765": {
          "model_module": "@jupyter-widgets/controls",
          "model_name": "DescriptionStyleModel",
          "model_module_version": "1.5.0",
          "state": {
            "_view_name": "StyleView",
            "_model_name": "DescriptionStyleModel",
            "description_width": "",
            "_view_module": "@jupyter-widgets/base",
            "_model_module_version": "1.5.0",
            "_view_count": null,
            "_view_module_version": "1.2.0",
            "_model_module": "@jupyter-widgets/controls"
          }
        },
        "2b4f27b203594ee39e2d3eddf95e5675": {
          "model_module": "@jupyter-widgets/base",
          "model_name": "LayoutModel",
          "model_module_version": "1.2.0",
          "state": {
            "_view_name": "LayoutView",
            "grid_template_rows": null,
            "right": null,
            "justify_content": null,
            "_view_module": "@jupyter-widgets/base",
            "overflow": null,
            "_model_module_version": "1.2.0",
            "_view_count": null,
            "flex_flow": null,
            "width": null,
            "min_width": null,
            "border": null,
            "align_items": null,
            "bottom": null,
            "_model_module": "@jupyter-widgets/base",
            "top": null,
            "grid_column": null,
            "overflow_y": null,
            "overflow_x": null,
            "grid_auto_flow": null,
            "grid_area": null,
            "grid_template_columns": null,
            "flex": null,
            "_model_name": "LayoutModel",
            "justify_items": null,
            "grid_row": null,
            "max_height": null,
            "align_content": null,
            "visibility": null,
            "align_self": null,
            "height": null,
            "min_height": null,
            "padding": null,
            "grid_auto_rows": null,
            "grid_gap": null,
            "max_width": null,
            "order": null,
            "_view_module_version": "1.2.0",
            "grid_template_areas": null,
            "object_position": null,
            "object_fit": null,
            "grid_auto_columns": null,
            "margin": null,
            "display": null,
            "left": null
          }
        },
        "2bdc670ae4f64b11a82ee8e69b8840a8": {
          "model_module": "@jupyter-widgets/controls",
          "model_name": "ProgressStyleModel",
          "model_module_version": "1.5.0",
          "state": {
            "_view_name": "StyleView",
            "_model_name": "ProgressStyleModel",
            "description_width": "",
            "_view_module": "@jupyter-widgets/base",
            "_model_module_version": "1.5.0",
            "_view_count": null,
            "_view_module_version": "1.2.0",
            "bar_color": null,
            "_model_module": "@jupyter-widgets/controls"
          }
        },
        "4498edab618a4006bf16d71e925d94d7": {
          "model_module": "@jupyter-widgets/base",
          "model_name": "LayoutModel",
          "model_module_version": "1.2.0",
          "state": {
            "_view_name": "LayoutView",
            "grid_template_rows": null,
            "right": null,
            "justify_content": null,
            "_view_module": "@jupyter-widgets/base",
            "overflow": null,
            "_model_module_version": "1.2.0",
            "_view_count": null,
            "flex_flow": null,
            "width": null,
            "min_width": null,
            "border": null,
            "align_items": null,
            "bottom": null,
            "_model_module": "@jupyter-widgets/base",
            "top": null,
            "grid_column": null,
            "overflow_y": null,
            "overflow_x": null,
            "grid_auto_flow": null,
            "grid_area": null,
            "grid_template_columns": null,
            "flex": null,
            "_model_name": "LayoutModel",
            "justify_items": null,
            "grid_row": null,
            "max_height": null,
            "align_content": null,
            "visibility": null,
            "align_self": null,
            "height": null,
            "min_height": null,
            "padding": null,
            "grid_auto_rows": null,
            "grid_gap": null,
            "max_width": null,
            "order": null,
            "_view_module_version": "1.2.0",
            "grid_template_areas": null,
            "object_position": null,
            "object_fit": null,
            "grid_auto_columns": null,
            "margin": null,
            "display": null,
            "left": null
          }
        },
        "9b7fcef99135477c8c89be6c1632bcde": {
          "model_module": "@jupyter-widgets/controls",
          "model_name": "DescriptionStyleModel",
          "model_module_version": "1.5.0",
          "state": {
            "_view_name": "StyleView",
            "_model_name": "DescriptionStyleModel",
            "description_width": "",
            "_view_module": "@jupyter-widgets/base",
            "_model_module_version": "1.5.0",
            "_view_count": null,
            "_view_module_version": "1.2.0",
            "_model_module": "@jupyter-widgets/controls"
          }
        },
        "d50b203854b2411ba4daafe2530d6570": {
          "model_module": "@jupyter-widgets/base",
          "model_name": "LayoutModel",
          "model_module_version": "1.2.0",
          "state": {
            "_view_name": "LayoutView",
            "grid_template_rows": null,
            "right": null,
            "justify_content": null,
            "_view_module": "@jupyter-widgets/base",
            "overflow": null,
            "_model_module_version": "1.2.0",
            "_view_count": null,
            "flex_flow": null,
            "width": null,
            "min_width": null,
            "border": null,
            "align_items": null,
            "bottom": null,
            "_model_module": "@jupyter-widgets/base",
            "top": null,
            "grid_column": null,
            "overflow_y": null,
            "overflow_x": null,
            "grid_auto_flow": null,
            "grid_area": null,
            "grid_template_columns": null,
            "flex": null,
            "_model_name": "LayoutModel",
            "justify_items": null,
            "grid_row": null,
            "max_height": null,
            "align_content": null,
            "visibility": null,
            "align_self": null,
            "height": null,
            "min_height": null,
            "padding": null,
            "grid_auto_rows": null,
            "grid_gap": null,
            "max_width": null,
            "order": null,
            "_view_module_version": "1.2.0",
            "grid_template_areas": null,
            "object_position": null,
            "object_fit": null,
            "grid_auto_columns": null,
            "margin": null,
            "display": null,
            "left": null
          }
        },
        "eecdbfc9bf274226a33dbbade93695e9": {
          "model_module": "@jupyter-widgets/controls",
          "model_name": "HBoxModel",
          "model_module_version": "1.5.0",
          "state": {
            "_view_name": "HBoxView",
            "_dom_classes": [],
            "_model_name": "HBoxModel",
            "_view_module": "@jupyter-widgets/controls",
            "_model_module_version": "1.5.0",
            "_view_count": null,
            "_view_module_version": "1.5.0",
            "box_style": "",
            "layout": "IPY_MODEL_798cdd7d90b548159addccb3473dafbe",
            "_model_module": "@jupyter-widgets/controls",
            "children": [
              "IPY_MODEL_48880c0b76c345bcb5482cf7eab15778",
              "IPY_MODEL_af1cf9fd2f30432bb1ea14aff24c3d38",
              "IPY_MODEL_d5787531047c417496f343be51abcc9d"
            ]
          }
        },
        "798cdd7d90b548159addccb3473dafbe": {
          "model_module": "@jupyter-widgets/base",
          "model_name": "LayoutModel",
          "model_module_version": "1.2.0",
          "state": {
            "_view_name": "LayoutView",
            "grid_template_rows": null,
            "right": null,
            "justify_content": null,
            "_view_module": "@jupyter-widgets/base",
            "overflow": null,
            "_model_module_version": "1.2.0",
            "_view_count": null,
            "flex_flow": null,
            "width": null,
            "min_width": null,
            "border": null,
            "align_items": null,
            "bottom": null,
            "_model_module": "@jupyter-widgets/base",
            "top": null,
            "grid_column": null,
            "overflow_y": null,
            "overflow_x": null,
            "grid_auto_flow": null,
            "grid_area": null,
            "grid_template_columns": null,
            "flex": null,
            "_model_name": "LayoutModel",
            "justify_items": null,
            "grid_row": null,
            "max_height": null,
            "align_content": null,
            "visibility": null,
            "align_self": null,
            "height": null,
            "min_height": null,
            "padding": null,
            "grid_auto_rows": null,
            "grid_gap": null,
            "max_width": null,
            "order": null,
            "_view_module_version": "1.2.0",
            "grid_template_areas": null,
            "object_position": null,
            "object_fit": null,
            "grid_auto_columns": null,
            "margin": null,
            "display": null,
            "left": null
          }
        },
        "48880c0b76c345bcb5482cf7eab15778": {
          "model_module": "@jupyter-widgets/controls",
          "model_name": "HTMLModel",
          "model_module_version": "1.5.0",
          "state": {
            "_view_name": "HTMLView",
            "style": "IPY_MODEL_d5300df1e76542f68e26a7379037be2b",
            "_dom_classes": [],
            "description": "",
            "_model_name": "HTMLModel",
            "placeholder": "​",
            "_view_module": "@jupyter-widgets/controls",
            "_model_module_version": "1.5.0",
            "value": "",
            "_view_count": null,
            "_view_module_version": "1.5.0",
            "description_tooltip": null,
            "_model_module": "@jupyter-widgets/controls",
            "layout": "IPY_MODEL_1aa562867add4f4099553bd13ec79eff"
          }
        },
        "af1cf9fd2f30432bb1ea14aff24c3d38": {
          "model_module": "@jupyter-widgets/controls",
          "model_name": "FloatProgressModel",
          "model_module_version": "1.5.0",
          "state": {
            "_view_name": "ProgressView",
            "style": "IPY_MODEL_85aef09a63244aa199be35d0bfac3ee6",
            "_dom_classes": [],
            "description": "",
            "_model_name": "FloatProgressModel",
            "bar_style": "success",
            "max": 28881,
            "_view_module": "@jupyter-widgets/controls",
            "_model_module_version": "1.5.0",
            "value": 28881,
            "_view_count": null,
            "_view_module_version": "1.5.0",
            "orientation": "horizontal",
            "min": 0,
            "description_tooltip": null,
            "_model_module": "@jupyter-widgets/controls",
            "layout": "IPY_MODEL_cc8d7388c82e4e9c80509cbd326ae6be"
          }
        },
        "d5787531047c417496f343be51abcc9d": {
          "model_module": "@jupyter-widgets/controls",
          "model_name": "HTMLModel",
          "model_module_version": "1.5.0",
          "state": {
            "_view_name": "HTMLView",
            "style": "IPY_MODEL_c2d831cff3024103b975a698b924a1e3",
            "_dom_classes": [],
            "description": "",
            "_model_name": "HTMLModel",
            "placeholder": "​",
            "_view_module": "@jupyter-widgets/controls",
            "_model_module_version": "1.5.0",
            "value": " 29696/? [00:00&lt;00:00, 510461.15it/s]",
            "_view_count": null,
            "_view_module_version": "1.5.0",
            "description_tooltip": null,
            "_model_module": "@jupyter-widgets/controls",
            "layout": "IPY_MODEL_5cbe31744b6a46adaf1ace82af5409cd"
          }
        },
        "d5300df1e76542f68e26a7379037be2b": {
          "model_module": "@jupyter-widgets/controls",
          "model_name": "DescriptionStyleModel",
          "model_module_version": "1.5.0",
          "state": {
            "_view_name": "StyleView",
            "_model_name": "DescriptionStyleModel",
            "description_width": "",
            "_view_module": "@jupyter-widgets/base",
            "_model_module_version": "1.5.0",
            "_view_count": null,
            "_view_module_version": "1.2.0",
            "_model_module": "@jupyter-widgets/controls"
          }
        },
        "1aa562867add4f4099553bd13ec79eff": {
          "model_module": "@jupyter-widgets/base",
          "model_name": "LayoutModel",
          "model_module_version": "1.2.0",
          "state": {
            "_view_name": "LayoutView",
            "grid_template_rows": null,
            "right": null,
            "justify_content": null,
            "_view_module": "@jupyter-widgets/base",
            "overflow": null,
            "_model_module_version": "1.2.0",
            "_view_count": null,
            "flex_flow": null,
            "width": null,
            "min_width": null,
            "border": null,
            "align_items": null,
            "bottom": null,
            "_model_module": "@jupyter-widgets/base",
            "top": null,
            "grid_column": null,
            "overflow_y": null,
            "overflow_x": null,
            "grid_auto_flow": null,
            "grid_area": null,
            "grid_template_columns": null,
            "flex": null,
            "_model_name": "LayoutModel",
            "justify_items": null,
            "grid_row": null,
            "max_height": null,
            "align_content": null,
            "visibility": null,
            "align_self": null,
            "height": null,
            "min_height": null,
            "padding": null,
            "grid_auto_rows": null,
            "grid_gap": null,
            "max_width": null,
            "order": null,
            "_view_module_version": "1.2.0",
            "grid_template_areas": null,
            "object_position": null,
            "object_fit": null,
            "grid_auto_columns": null,
            "margin": null,
            "display": null,
            "left": null
          }
        },
        "85aef09a63244aa199be35d0bfac3ee6": {
          "model_module": "@jupyter-widgets/controls",
          "model_name": "ProgressStyleModel",
          "model_module_version": "1.5.0",
          "state": {
            "_view_name": "StyleView",
            "_model_name": "ProgressStyleModel",
            "description_width": "",
            "_view_module": "@jupyter-widgets/base",
            "_model_module_version": "1.5.0",
            "_view_count": null,
            "_view_module_version": "1.2.0",
            "bar_color": null,
            "_model_module": "@jupyter-widgets/controls"
          }
        },
        "cc8d7388c82e4e9c80509cbd326ae6be": {
          "model_module": "@jupyter-widgets/base",
          "model_name": "LayoutModel",
          "model_module_version": "1.2.0",
          "state": {
            "_view_name": "LayoutView",
            "grid_template_rows": null,
            "right": null,
            "justify_content": null,
            "_view_module": "@jupyter-widgets/base",
            "overflow": null,
            "_model_module_version": "1.2.0",
            "_view_count": null,
            "flex_flow": null,
            "width": null,
            "min_width": null,
            "border": null,
            "align_items": null,
            "bottom": null,
            "_model_module": "@jupyter-widgets/base",
            "top": null,
            "grid_column": null,
            "overflow_y": null,
            "overflow_x": null,
            "grid_auto_flow": null,
            "grid_area": null,
            "grid_template_columns": null,
            "flex": null,
            "_model_name": "LayoutModel",
            "justify_items": null,
            "grid_row": null,
            "max_height": null,
            "align_content": null,
            "visibility": null,
            "align_self": null,
            "height": null,
            "min_height": null,
            "padding": null,
            "grid_auto_rows": null,
            "grid_gap": null,
            "max_width": null,
            "order": null,
            "_view_module_version": "1.2.0",
            "grid_template_areas": null,
            "object_position": null,
            "object_fit": null,
            "grid_auto_columns": null,
            "margin": null,
            "display": null,
            "left": null
          }
        },
        "c2d831cff3024103b975a698b924a1e3": {
          "model_module": "@jupyter-widgets/controls",
          "model_name": "DescriptionStyleModel",
          "model_module_version": "1.5.0",
          "state": {
            "_view_name": "StyleView",
            "_model_name": "DescriptionStyleModel",
            "description_width": "",
            "_view_module": "@jupyter-widgets/base",
            "_model_module_version": "1.5.0",
            "_view_count": null,
            "_view_module_version": "1.2.0",
            "_model_module": "@jupyter-widgets/controls"
          }
        },
        "5cbe31744b6a46adaf1ace82af5409cd": {
          "model_module": "@jupyter-widgets/base",
          "model_name": "LayoutModel",
          "model_module_version": "1.2.0",
          "state": {
            "_view_name": "LayoutView",
            "grid_template_rows": null,
            "right": null,
            "justify_content": null,
            "_view_module": "@jupyter-widgets/base",
            "overflow": null,
            "_model_module_version": "1.2.0",
            "_view_count": null,
            "flex_flow": null,
            "width": null,
            "min_width": null,
            "border": null,
            "align_items": null,
            "bottom": null,
            "_model_module": "@jupyter-widgets/base",
            "top": null,
            "grid_column": null,
            "overflow_y": null,
            "overflow_x": null,
            "grid_auto_flow": null,
            "grid_area": null,
            "grid_template_columns": null,
            "flex": null,
            "_model_name": "LayoutModel",
            "justify_items": null,
            "grid_row": null,
            "max_height": null,
            "align_content": null,
            "visibility": null,
            "align_self": null,
            "height": null,
            "min_height": null,
            "padding": null,
            "grid_auto_rows": null,
            "grid_gap": null,
            "max_width": null,
            "order": null,
            "_view_module_version": "1.2.0",
            "grid_template_areas": null,
            "object_position": null,
            "object_fit": null,
            "grid_auto_columns": null,
            "margin": null,
            "display": null,
            "left": null
          }
        },
        "aa95fc93c4ac4367a44e9bda627c2481": {
          "model_module": "@jupyter-widgets/controls",
          "model_name": "HBoxModel",
          "model_module_version": "1.5.0",
          "state": {
            "_view_name": "HBoxView",
            "_dom_classes": [],
            "_model_name": "HBoxModel",
            "_view_module": "@jupyter-widgets/controls",
            "_model_module_version": "1.5.0",
            "_view_count": null,
            "_view_module_version": "1.5.0",
            "box_style": "",
            "layout": "IPY_MODEL_832e0d1d58b742178975cfd352059637",
            "_model_module": "@jupyter-widgets/controls",
            "children": [
              "IPY_MODEL_cefd3f08e5c84bc29463fa9eb59e8519",
              "IPY_MODEL_fb207d2d724846b5862916f0d80c11b3",
              "IPY_MODEL_cd5ca48b7b194048b92bbef9332aa0a6"
            ]
          }
        },
        "832e0d1d58b742178975cfd352059637": {
          "model_module": "@jupyter-widgets/base",
          "model_name": "LayoutModel",
          "model_module_version": "1.2.0",
          "state": {
            "_view_name": "LayoutView",
            "grid_template_rows": null,
            "right": null,
            "justify_content": null,
            "_view_module": "@jupyter-widgets/base",
            "overflow": null,
            "_model_module_version": "1.2.0",
            "_view_count": null,
            "flex_flow": null,
            "width": null,
            "min_width": null,
            "border": null,
            "align_items": null,
            "bottom": null,
            "_model_module": "@jupyter-widgets/base",
            "top": null,
            "grid_column": null,
            "overflow_y": null,
            "overflow_x": null,
            "grid_auto_flow": null,
            "grid_area": null,
            "grid_template_columns": null,
            "flex": null,
            "_model_name": "LayoutModel",
            "justify_items": null,
            "grid_row": null,
            "max_height": null,
            "align_content": null,
            "visibility": null,
            "align_self": null,
            "height": null,
            "min_height": null,
            "padding": null,
            "grid_auto_rows": null,
            "grid_gap": null,
            "max_width": null,
            "order": null,
            "_view_module_version": "1.2.0",
            "grid_template_areas": null,
            "object_position": null,
            "object_fit": null,
            "grid_auto_columns": null,
            "margin": null,
            "display": null,
            "left": null
          }
        },
        "cefd3f08e5c84bc29463fa9eb59e8519": {
          "model_module": "@jupyter-widgets/controls",
          "model_name": "HTMLModel",
          "model_module_version": "1.5.0",
          "state": {
            "_view_name": "HTMLView",
            "style": "IPY_MODEL_81e522632a73499da6feed091bff1b92",
            "_dom_classes": [],
            "description": "",
            "_model_name": "HTMLModel",
            "placeholder": "​",
            "_view_module": "@jupyter-widgets/controls",
            "_model_module_version": "1.5.0",
            "value": "",
            "_view_count": null,
            "_view_module_version": "1.5.0",
            "description_tooltip": null,
            "_model_module": "@jupyter-widgets/controls",
            "layout": "IPY_MODEL_54c1a0e26f7d44f989e9080048ba7273"
          }
        },
        "fb207d2d724846b5862916f0d80c11b3": {
          "model_module": "@jupyter-widgets/controls",
          "model_name": "FloatProgressModel",
          "model_module_version": "1.5.0",
          "state": {
            "_view_name": "ProgressView",
            "style": "IPY_MODEL_6f023dd306ff4fdab83f8a70ed0b3352",
            "_dom_classes": [],
            "description": "",
            "_model_name": "FloatProgressModel",
            "bar_style": "success",
            "max": 1648877,
            "_view_module": "@jupyter-widgets/controls",
            "_model_module_version": "1.5.0",
            "value": 1648877,
            "_view_count": null,
            "_view_module_version": "1.5.0",
            "orientation": "horizontal",
            "min": 0,
            "description_tooltip": null,
            "_model_module": "@jupyter-widgets/controls",
            "layout": "IPY_MODEL_5f92e183235042af95ffe03e030cd93f"
          }
        },
        "cd5ca48b7b194048b92bbef9332aa0a6": {
          "model_module": "@jupyter-widgets/controls",
          "model_name": "HTMLModel",
          "model_module_version": "1.5.0",
          "state": {
            "_view_name": "HTMLView",
            "style": "IPY_MODEL_5f5dcf242a86429d9d5121cfe7801077",
            "_dom_classes": [],
            "description": "",
            "_model_name": "HTMLModel",
            "placeholder": "​",
            "_view_module": "@jupyter-widgets/controls",
            "_model_module_version": "1.5.0",
            "value": " 1649664/? [00:00&lt;00:00, 21664993.53it/s]",
            "_view_count": null,
            "_view_module_version": "1.5.0",
            "description_tooltip": null,
            "_model_module": "@jupyter-widgets/controls",
            "layout": "IPY_MODEL_5a28c4006fe148158a4c708cfd505ef3"
          }
        },
        "81e522632a73499da6feed091bff1b92": {
          "model_module": "@jupyter-widgets/controls",
          "model_name": "DescriptionStyleModel",
          "model_module_version": "1.5.0",
          "state": {
            "_view_name": "StyleView",
            "_model_name": "DescriptionStyleModel",
            "description_width": "",
            "_view_module": "@jupyter-widgets/base",
            "_model_module_version": "1.5.0",
            "_view_count": null,
            "_view_module_version": "1.2.0",
            "_model_module": "@jupyter-widgets/controls"
          }
        },
        "54c1a0e26f7d44f989e9080048ba7273": {
          "model_module": "@jupyter-widgets/base",
          "model_name": "LayoutModel",
          "model_module_version": "1.2.0",
          "state": {
            "_view_name": "LayoutView",
            "grid_template_rows": null,
            "right": null,
            "justify_content": null,
            "_view_module": "@jupyter-widgets/base",
            "overflow": null,
            "_model_module_version": "1.2.0",
            "_view_count": null,
            "flex_flow": null,
            "width": null,
            "min_width": null,
            "border": null,
            "align_items": null,
            "bottom": null,
            "_model_module": "@jupyter-widgets/base",
            "top": null,
            "grid_column": null,
            "overflow_y": null,
            "overflow_x": null,
            "grid_auto_flow": null,
            "grid_area": null,
            "grid_template_columns": null,
            "flex": null,
            "_model_name": "LayoutModel",
            "justify_items": null,
            "grid_row": null,
            "max_height": null,
            "align_content": null,
            "visibility": null,
            "align_self": null,
            "height": null,
            "min_height": null,
            "padding": null,
            "grid_auto_rows": null,
            "grid_gap": null,
            "max_width": null,
            "order": null,
            "_view_module_version": "1.2.0",
            "grid_template_areas": null,
            "object_position": null,
            "object_fit": null,
            "grid_auto_columns": null,
            "margin": null,
            "display": null,
            "left": null
          }
        },
        "6f023dd306ff4fdab83f8a70ed0b3352": {
          "model_module": "@jupyter-widgets/controls",
          "model_name": "ProgressStyleModel",
          "model_module_version": "1.5.0",
          "state": {
            "_view_name": "StyleView",
            "_model_name": "ProgressStyleModel",
            "description_width": "",
            "_view_module": "@jupyter-widgets/base",
            "_model_module_version": "1.5.0",
            "_view_count": null,
            "_view_module_version": "1.2.0",
            "bar_color": null,
            "_model_module": "@jupyter-widgets/controls"
          }
        },
        "5f92e183235042af95ffe03e030cd93f": {
          "model_module": "@jupyter-widgets/base",
          "model_name": "LayoutModel",
          "model_module_version": "1.2.0",
          "state": {
            "_view_name": "LayoutView",
            "grid_template_rows": null,
            "right": null,
            "justify_content": null,
            "_view_module": "@jupyter-widgets/base",
            "overflow": null,
            "_model_module_version": "1.2.0",
            "_view_count": null,
            "flex_flow": null,
            "width": null,
            "min_width": null,
            "border": null,
            "align_items": null,
            "bottom": null,
            "_model_module": "@jupyter-widgets/base",
            "top": null,
            "grid_column": null,
            "overflow_y": null,
            "overflow_x": null,
            "grid_auto_flow": null,
            "grid_area": null,
            "grid_template_columns": null,
            "flex": null,
            "_model_name": "LayoutModel",
            "justify_items": null,
            "grid_row": null,
            "max_height": null,
            "align_content": null,
            "visibility": null,
            "align_self": null,
            "height": null,
            "min_height": null,
            "padding": null,
            "grid_auto_rows": null,
            "grid_gap": null,
            "max_width": null,
            "order": null,
            "_view_module_version": "1.2.0",
            "grid_template_areas": null,
            "object_position": null,
            "object_fit": null,
            "grid_auto_columns": null,
            "margin": null,
            "display": null,
            "left": null
          }
        },
        "5f5dcf242a86429d9d5121cfe7801077": {
          "model_module": "@jupyter-widgets/controls",
          "model_name": "DescriptionStyleModel",
          "model_module_version": "1.5.0",
          "state": {
            "_view_name": "StyleView",
            "_model_name": "DescriptionStyleModel",
            "description_width": "",
            "_view_module": "@jupyter-widgets/base",
            "_model_module_version": "1.5.0",
            "_view_count": null,
            "_view_module_version": "1.2.0",
            "_model_module": "@jupyter-widgets/controls"
          }
        },
        "5a28c4006fe148158a4c708cfd505ef3": {
          "model_module": "@jupyter-widgets/base",
          "model_name": "LayoutModel",
          "model_module_version": "1.2.0",
          "state": {
            "_view_name": "LayoutView",
            "grid_template_rows": null,
            "right": null,
            "justify_content": null,
            "_view_module": "@jupyter-widgets/base",
            "overflow": null,
            "_model_module_version": "1.2.0",
            "_view_count": null,
            "flex_flow": null,
            "width": null,
            "min_width": null,
            "border": null,
            "align_items": null,
            "bottom": null,
            "_model_module": "@jupyter-widgets/base",
            "top": null,
            "grid_column": null,
            "overflow_y": null,
            "overflow_x": null,
            "grid_auto_flow": null,
            "grid_area": null,
            "grid_template_columns": null,
            "flex": null,
            "_model_name": "LayoutModel",
            "justify_items": null,
            "grid_row": null,
            "max_height": null,
            "align_content": null,
            "visibility": null,
            "align_self": null,
            "height": null,
            "min_height": null,
            "padding": null,
            "grid_auto_rows": null,
            "grid_gap": null,
            "max_width": null,
            "order": null,
            "_view_module_version": "1.2.0",
            "grid_template_areas": null,
            "object_position": null,
            "object_fit": null,
            "grid_auto_columns": null,
            "margin": null,
            "display": null,
            "left": null
          }
        },
        "27402afad89e4c3eb45735cc40bbf081": {
          "model_module": "@jupyter-widgets/controls",
          "model_name": "HBoxModel",
          "model_module_version": "1.5.0",
          "state": {
            "_view_name": "HBoxView",
            "_dom_classes": [],
            "_model_name": "HBoxModel",
            "_view_module": "@jupyter-widgets/controls",
            "_model_module_version": "1.5.0",
            "_view_count": null,
            "_view_module_version": "1.5.0",
            "box_style": "",
            "layout": "IPY_MODEL_6008628927b543d9959ad97732aa83ea",
            "_model_module": "@jupyter-widgets/controls",
            "children": [
              "IPY_MODEL_d600aee3559c4645a5583c330e65756f",
              "IPY_MODEL_32338c9bbbd04a8aa60809cc2e661be5",
              "IPY_MODEL_eea78dda32eb439985c625e74c5e7b45"
            ]
          }
        },
        "6008628927b543d9959ad97732aa83ea": {
          "model_module": "@jupyter-widgets/base",
          "model_name": "LayoutModel",
          "model_module_version": "1.2.0",
          "state": {
            "_view_name": "LayoutView",
            "grid_template_rows": null,
            "right": null,
            "justify_content": null,
            "_view_module": "@jupyter-widgets/base",
            "overflow": null,
            "_model_module_version": "1.2.0",
            "_view_count": null,
            "flex_flow": null,
            "width": null,
            "min_width": null,
            "border": null,
            "align_items": null,
            "bottom": null,
            "_model_module": "@jupyter-widgets/base",
            "top": null,
            "grid_column": null,
            "overflow_y": null,
            "overflow_x": null,
            "grid_auto_flow": null,
            "grid_area": null,
            "grid_template_columns": null,
            "flex": null,
            "_model_name": "LayoutModel",
            "justify_items": null,
            "grid_row": null,
            "max_height": null,
            "align_content": null,
            "visibility": null,
            "align_self": null,
            "height": null,
            "min_height": null,
            "padding": null,
            "grid_auto_rows": null,
            "grid_gap": null,
            "max_width": null,
            "order": null,
            "_view_module_version": "1.2.0",
            "grid_template_areas": null,
            "object_position": null,
            "object_fit": null,
            "grid_auto_columns": null,
            "margin": null,
            "display": null,
            "left": null
          }
        },
        "d600aee3559c4645a5583c330e65756f": {
          "model_module": "@jupyter-widgets/controls",
          "model_name": "HTMLModel",
          "model_module_version": "1.5.0",
          "state": {
            "_view_name": "HTMLView",
            "style": "IPY_MODEL_7a4c61550c1d448fb447b9de52bc3b19",
            "_dom_classes": [],
            "description": "",
            "_model_name": "HTMLModel",
            "placeholder": "​",
            "_view_module": "@jupyter-widgets/controls",
            "_model_module_version": "1.5.0",
            "value": "",
            "_view_count": null,
            "_view_module_version": "1.5.0",
            "description_tooltip": null,
            "_model_module": "@jupyter-widgets/controls",
            "layout": "IPY_MODEL_85aa2630716542bb9b4a695836daa695"
          }
        },
        "32338c9bbbd04a8aa60809cc2e661be5": {
          "model_module": "@jupyter-widgets/controls",
          "model_name": "FloatProgressModel",
          "model_module_version": "1.5.0",
          "state": {
            "_view_name": "ProgressView",
            "style": "IPY_MODEL_52504c83075c42c1a86f7656af3cacb5",
            "_dom_classes": [],
            "description": "",
            "_model_name": "FloatProgressModel",
            "bar_style": "success",
            "max": 4542,
            "_view_module": "@jupyter-widgets/controls",
            "_model_module_version": "1.5.0",
            "value": 4542,
            "_view_count": null,
            "_view_module_version": "1.5.0",
            "orientation": "horizontal",
            "min": 0,
            "description_tooltip": null,
            "_model_module": "@jupyter-widgets/controls",
            "layout": "IPY_MODEL_c6a7a30ca24040bea335a93bb0c72a95"
          }
        },
        "eea78dda32eb439985c625e74c5e7b45": {
          "model_module": "@jupyter-widgets/controls",
          "model_name": "HTMLModel",
          "model_module_version": "1.5.0",
          "state": {
            "_view_name": "HTMLView",
            "style": "IPY_MODEL_8a646e2e379e4fc2bd7a1e3539e64ae3",
            "_dom_classes": [],
            "description": "",
            "_model_name": "HTMLModel",
            "placeholder": "​",
            "_view_module": "@jupyter-widgets/controls",
            "_model_module_version": "1.5.0",
            "value": " 5120/? [00:00&lt;00:00, 155454.80it/s]",
            "_view_count": null,
            "_view_module_version": "1.5.0",
            "description_tooltip": null,
            "_model_module": "@jupyter-widgets/controls",
            "layout": "IPY_MODEL_ed08bc7b595c439f9737cf19be24c2aa"
          }
        },
        "7a4c61550c1d448fb447b9de52bc3b19": {
          "model_module": "@jupyter-widgets/controls",
          "model_name": "DescriptionStyleModel",
          "model_module_version": "1.5.0",
          "state": {
            "_view_name": "StyleView",
            "_model_name": "DescriptionStyleModel",
            "description_width": "",
            "_view_module": "@jupyter-widgets/base",
            "_model_module_version": "1.5.0",
            "_view_count": null,
            "_view_module_version": "1.2.0",
            "_model_module": "@jupyter-widgets/controls"
          }
        },
        "85aa2630716542bb9b4a695836daa695": {
          "model_module": "@jupyter-widgets/base",
          "model_name": "LayoutModel",
          "model_module_version": "1.2.0",
          "state": {
            "_view_name": "LayoutView",
            "grid_template_rows": null,
            "right": null,
            "justify_content": null,
            "_view_module": "@jupyter-widgets/base",
            "overflow": null,
            "_model_module_version": "1.2.0",
            "_view_count": null,
            "flex_flow": null,
            "width": null,
            "min_width": null,
            "border": null,
            "align_items": null,
            "bottom": null,
            "_model_module": "@jupyter-widgets/base",
            "top": null,
            "grid_column": null,
            "overflow_y": null,
            "overflow_x": null,
            "grid_auto_flow": null,
            "grid_area": null,
            "grid_template_columns": null,
            "flex": null,
            "_model_name": "LayoutModel",
            "justify_items": null,
            "grid_row": null,
            "max_height": null,
            "align_content": null,
            "visibility": null,
            "align_self": null,
            "height": null,
            "min_height": null,
            "padding": null,
            "grid_auto_rows": null,
            "grid_gap": null,
            "max_width": null,
            "order": null,
            "_view_module_version": "1.2.0",
            "grid_template_areas": null,
            "object_position": null,
            "object_fit": null,
            "grid_auto_columns": null,
            "margin": null,
            "display": null,
            "left": null
          }
        },
        "52504c83075c42c1a86f7656af3cacb5": {
          "model_module": "@jupyter-widgets/controls",
          "model_name": "ProgressStyleModel",
          "model_module_version": "1.5.0",
          "state": {
            "_view_name": "StyleView",
            "_model_name": "ProgressStyleModel",
            "description_width": "",
            "_view_module": "@jupyter-widgets/base",
            "_model_module_version": "1.5.0",
            "_view_count": null,
            "_view_module_version": "1.2.0",
            "bar_color": null,
            "_model_module": "@jupyter-widgets/controls"
          }
        },
        "c6a7a30ca24040bea335a93bb0c72a95": {
          "model_module": "@jupyter-widgets/base",
          "model_name": "LayoutModel",
          "model_module_version": "1.2.0",
          "state": {
            "_view_name": "LayoutView",
            "grid_template_rows": null,
            "right": null,
            "justify_content": null,
            "_view_module": "@jupyter-widgets/base",
            "overflow": null,
            "_model_module_version": "1.2.0",
            "_view_count": null,
            "flex_flow": null,
            "width": null,
            "min_width": null,
            "border": null,
            "align_items": null,
            "bottom": null,
            "_model_module": "@jupyter-widgets/base",
            "top": null,
            "grid_column": null,
            "overflow_y": null,
            "overflow_x": null,
            "grid_auto_flow": null,
            "grid_area": null,
            "grid_template_columns": null,
            "flex": null,
            "_model_name": "LayoutModel",
            "justify_items": null,
            "grid_row": null,
            "max_height": null,
            "align_content": null,
            "visibility": null,
            "align_self": null,
            "height": null,
            "min_height": null,
            "padding": null,
            "grid_auto_rows": null,
            "grid_gap": null,
            "max_width": null,
            "order": null,
            "_view_module_version": "1.2.0",
            "grid_template_areas": null,
            "object_position": null,
            "object_fit": null,
            "grid_auto_columns": null,
            "margin": null,
            "display": null,
            "left": null
          }
        },
        "8a646e2e379e4fc2bd7a1e3539e64ae3": {
          "model_module": "@jupyter-widgets/controls",
          "model_name": "DescriptionStyleModel",
          "model_module_version": "1.5.0",
          "state": {
            "_view_name": "StyleView",
            "_model_name": "DescriptionStyleModel",
            "description_width": "",
            "_view_module": "@jupyter-widgets/base",
            "_model_module_version": "1.5.0",
            "_view_count": null,
            "_view_module_version": "1.2.0",
            "_model_module": "@jupyter-widgets/controls"
          }
        },
        "ed08bc7b595c439f9737cf19be24c2aa": {
          "model_module": "@jupyter-widgets/base",
          "model_name": "LayoutModel",
          "model_module_version": "1.2.0",
          "state": {
            "_view_name": "LayoutView",
            "grid_template_rows": null,
            "right": null,
            "justify_content": null,
            "_view_module": "@jupyter-widgets/base",
            "overflow": null,
            "_model_module_version": "1.2.0",
            "_view_count": null,
            "flex_flow": null,
            "width": null,
            "min_width": null,
            "border": null,
            "align_items": null,
            "bottom": null,
            "_model_module": "@jupyter-widgets/base",
            "top": null,
            "grid_column": null,
            "overflow_y": null,
            "overflow_x": null,
            "grid_auto_flow": null,
            "grid_area": null,
            "grid_template_columns": null,
            "flex": null,
            "_model_name": "LayoutModel",
            "justify_items": null,
            "grid_row": null,
            "max_height": null,
            "align_content": null,
            "visibility": null,
            "align_self": null,
            "height": null,
            "min_height": null,
            "padding": null,
            "grid_auto_rows": null,
            "grid_gap": null,
            "max_width": null,
            "order": null,
            "_view_module_version": "1.2.0",
            "grid_template_areas": null,
            "object_position": null,
            "object_fit": null,
            "grid_auto_columns": null,
            "margin": null,
            "display": null,
            "left": null
          }
        }
      }
    }
  },
  "cells": [
    {
      "cell_type": "markdown",
      "metadata": {
        "id": "aSDa8htGTvXq"
      },
      "source": [
        "**MLP (Multiplayer Perceptrons) with MNIST Dataset**"
      ]
    },
    {
      "cell_type": "code",
      "metadata": {
        "id": "GTHrjNPYSk7J"
      },
      "source": [
        "import torch\n",
        "import torch.nn as nn\n",
        "import torch.nn.functional as F\n",
        "import sklearn\n",
        "import numpy as np\n",
        "import pandas as pd\n",
        "import time\n",
        "import matplotlib.pyplot as plt\n",
        "\n",
        "from torch.utils.data import DataLoader\n",
        "from torchvision import datasets,transforms\n",
        "from sklearn.metrics import accuracy_score\n",
        "\n"
      ],
      "execution_count": 1,
      "outputs": []
    },
    {
      "cell_type": "code",
      "metadata": {
        "colab": {
          "base_uri": "https://localhost:8080/",
          "height": 458,
          "referenced_widgets": [
            "caa64bf6d62b46dc81ef2dc9669935a6",
            "a4faf9133682422d8a997dd4ce096785",
            "fab43d23cd8d492a8dfad6a70a1e9684",
            "7e77444f8a224feba4e476845f927418",
            "ead0cc7c82854580ad3db8db2009eee7",
            "19e419d091ae4906b7921a52003ca765",
            "2b4f27b203594ee39e2d3eddf95e5675",
            "2bdc670ae4f64b11a82ee8e69b8840a8",
            "4498edab618a4006bf16d71e925d94d7",
            "9b7fcef99135477c8c89be6c1632bcde",
            "d50b203854b2411ba4daafe2530d6570",
            "eecdbfc9bf274226a33dbbade93695e9",
            "798cdd7d90b548159addccb3473dafbe",
            "48880c0b76c345bcb5482cf7eab15778",
            "af1cf9fd2f30432bb1ea14aff24c3d38",
            "d5787531047c417496f343be51abcc9d",
            "d5300df1e76542f68e26a7379037be2b",
            "1aa562867add4f4099553bd13ec79eff",
            "85aef09a63244aa199be35d0bfac3ee6",
            "cc8d7388c82e4e9c80509cbd326ae6be",
            "c2d831cff3024103b975a698b924a1e3",
            "5cbe31744b6a46adaf1ace82af5409cd",
            "aa95fc93c4ac4367a44e9bda627c2481",
            "832e0d1d58b742178975cfd352059637",
            "cefd3f08e5c84bc29463fa9eb59e8519",
            "fb207d2d724846b5862916f0d80c11b3",
            "cd5ca48b7b194048b92bbef9332aa0a6",
            "81e522632a73499da6feed091bff1b92",
            "54c1a0e26f7d44f989e9080048ba7273",
            "6f023dd306ff4fdab83f8a70ed0b3352",
            "5f92e183235042af95ffe03e030cd93f",
            "5f5dcf242a86429d9d5121cfe7801077",
            "5a28c4006fe148158a4c708cfd505ef3",
            "27402afad89e4c3eb45735cc40bbf081",
            "6008628927b543d9959ad97732aa83ea",
            "d600aee3559c4645a5583c330e65756f",
            "32338c9bbbd04a8aa60809cc2e661be5",
            "eea78dda32eb439985c625e74c5e7b45",
            "7a4c61550c1d448fb447b9de52bc3b19",
            "85aa2630716542bb9b4a695836daa695",
            "52504c83075c42c1a86f7656af3cacb5",
            "c6a7a30ca24040bea335a93bb0c72a95",
            "8a646e2e379e4fc2bd7a1e3539e64ae3",
            "ed08bc7b595c439f9737cf19be24c2aa"
          ]
        },
        "id": "CUMHMAwNT6AD",
        "outputId": "6d6b2978-2054-44fc-fd22-a5f8efc856de"
      },
      "source": [
        "#Load train dataset of MNIST \n",
        "train_dataset = datasets.MNIST(root ='./data',\n",
        "                            train=True,\n",
        "                            transform = transforms.ToTensor(),\n",
        "                            download = True)\n",
        "\n",
        "#Load test dataset of MNIST\n",
        "test_dataset = datasets.MNIST(root = './data',\n",
        "                           train=False,\n",
        "                           transform = transforms.ToTensor())\n",
        "\n",
        "# Control for MNIST Dataset\n",
        "n_train = len(train_dataset)\n",
        "n_test=len(test_dataset)\n",
        "print(\"Size of Train Dataset:\",n_train)\n",
        "print(\"Size of Test Dataset:\",n_test)"
      ],
      "execution_count": 2,
      "outputs": [
        {
          "output_type": "stream",
          "name": "stdout",
          "text": [
            "Downloading http://yann.lecun.com/exdb/mnist/train-images-idx3-ubyte.gz\n",
            "Downloading http://yann.lecun.com/exdb/mnist/train-images-idx3-ubyte.gz to ./data/MNIST/raw/train-images-idx3-ubyte.gz\n"
          ]
        },
        {
          "output_type": "display_data",
          "data": {
            "application/vnd.jupyter.widget-view+json": {
              "model_id": "caa64bf6d62b46dc81ef2dc9669935a6",
              "version_minor": 0,
              "version_major": 2
            },
            "text/plain": [
              "  0%|          | 0/9912422 [00:00<?, ?it/s]"
            ]
          },
          "metadata": {}
        },
        {
          "output_type": "stream",
          "name": "stdout",
          "text": [
            "Extracting ./data/MNIST/raw/train-images-idx3-ubyte.gz to ./data/MNIST/raw\n",
            "\n",
            "Downloading http://yann.lecun.com/exdb/mnist/train-labels-idx1-ubyte.gz\n",
            "Downloading http://yann.lecun.com/exdb/mnist/train-labels-idx1-ubyte.gz to ./data/MNIST/raw/train-labels-idx1-ubyte.gz\n"
          ]
        },
        {
          "output_type": "display_data",
          "data": {
            "application/vnd.jupyter.widget-view+json": {
              "model_id": "eecdbfc9bf274226a33dbbade93695e9",
              "version_minor": 0,
              "version_major": 2
            },
            "text/plain": [
              "  0%|          | 0/28881 [00:00<?, ?it/s]"
            ]
          },
          "metadata": {}
        },
        {
          "output_type": "stream",
          "name": "stdout",
          "text": [
            "Extracting ./data/MNIST/raw/train-labels-idx1-ubyte.gz to ./data/MNIST/raw\n",
            "\n",
            "Downloading http://yann.lecun.com/exdb/mnist/t10k-images-idx3-ubyte.gz\n",
            "Downloading http://yann.lecun.com/exdb/mnist/t10k-images-idx3-ubyte.gz to ./data/MNIST/raw/t10k-images-idx3-ubyte.gz\n"
          ]
        },
        {
          "output_type": "display_data",
          "data": {
            "application/vnd.jupyter.widget-view+json": {
              "model_id": "aa95fc93c4ac4367a44e9bda627c2481",
              "version_minor": 0,
              "version_major": 2
            },
            "text/plain": [
              "  0%|          | 0/1648877 [00:00<?, ?it/s]"
            ]
          },
          "metadata": {}
        },
        {
          "output_type": "stream",
          "name": "stdout",
          "text": [
            "Extracting ./data/MNIST/raw/t10k-images-idx3-ubyte.gz to ./data/MNIST/raw\n",
            "\n",
            "Downloading http://yann.lecun.com/exdb/mnist/t10k-labels-idx1-ubyte.gz\n",
            "Downloading http://yann.lecun.com/exdb/mnist/t10k-labels-idx1-ubyte.gz to ./data/MNIST/raw/t10k-labels-idx1-ubyte.gz\n"
          ]
        },
        {
          "output_type": "display_data",
          "data": {
            "application/vnd.jupyter.widget-view+json": {
              "model_id": "27402afad89e4c3eb45735cc40bbf081",
              "version_minor": 0,
              "version_major": 2
            },
            "text/plain": [
              "  0%|          | 0/4542 [00:00<?, ?it/s]"
            ]
          },
          "metadata": {}
        },
        {
          "output_type": "stream",
          "name": "stdout",
          "text": [
            "Extracting ./data/MNIST/raw/t10k-labels-idx1-ubyte.gz to ./data/MNIST/raw\n",
            "\n",
            "Size of Train Dataset: 60000\n",
            "Size of Test Dataset: 10000\n"
          ]
        }
      ]
    },
    {
      "cell_type": "code",
      "metadata": {
        "colab": {
          "base_uri": "https://localhost:8080/",
          "height": 333
        },
        "id": "9jn1O6qTU7T-",
        "outputId": "bc8b77a3-dc8f-45f0-873a-5d0f7cd41dbc"
      },
      "source": [
        "image,label = train_dataset[0]\n",
        "print('shape:',image.shape, '\\nLabel:',label)\n",
        "plt.imshow(image.reshape((28,28)),cmap=\"gray\")\n",
        "plt.title(\"image\")\n",
        "plt.show"
      ],
      "execution_count": 3,
      "outputs": [
        {
          "output_type": "stream",
          "name": "stdout",
          "text": [
            "shape: torch.Size([1, 28, 28]) \n",
            "Label: 5\n"
          ]
        },
        {
          "output_type": "execute_result",
          "data": {
            "text/plain": [
              "<function matplotlib.pyplot.show>"
            ]
          },
          "metadata": {},
          "execution_count": 3
        },
        {
          "output_type": "display_data",
          "data": {
            "image/png": "[encoded data removed]",
            "text/plain": [
              "<Figure size 432x288 with 1 Axes>"
            ]
          },
          "metadata": {
            "needs_background": "light"
          }
        }
      ]
    },
    {
      "cell_type": "markdown",
      "metadata": {
        "id": "r5gKD4_mX-qh"
      },
      "source": [
        "**MLP:** A multilayer perceptron has Dense layers of neurons in it, hence the name multi-layer.\n"
      ]
    },
    {
      "cell_type": "markdown",
      "metadata": {
        "id": "SFb_zChQYgG3"
      },
      "source": [
        "**y = wx + b**\n",
        "where x denotes the input neuron\n",
        "w : weights\n",
        "b : bias."
      ]
    },
    {
      "cell_type": "markdown",
      "metadata": {
        "id": "IuiSD3w_Y5t2"
      },
      "source": [
        "There 3 basic components:\n",
        "1. Input Layer\n",
        "2.Output Layer\n",
        "3. Hidden Layers"
      ]
    },
    {
      "cell_type": "markdown",
      "metadata": {
        "id": "4C93GrDBZqCn"
      },
      "source": [
        "Define **MLP**"
      ]
    },
    {
      "cell_type": "code",
      "metadata": {
        "id": "IEMrRdc6ZFqI"
      },
      "source": [
        "train_loader = DataLoader(train_dataset, batch_size=100, shuffle=True)\n",
        "test_loader = DataLoader(test_dataset,batch_size=500, shuffle=False)\n",
        "\n",
        "#define our model network model\n",
        "# our neural network model : Multilayer Perceptron\n",
        "\n",
        "class MultilayerPerceptron(nn.Module):\n",
        "  def __init__(self, input_size=784, output_size=10, layers=[120,84]):\n",
        "    super().__init__()\n",
        "    self.d1 = nn.Linear(input_size,layers[0]) #hidden layer 1\n",
        "    self.d2 = nn.Linear(layers[0],layers[1])  #hidden layer 2\n",
        "    self.d3 = nn.Linear(layers[1],output_size)\n",
        "\n",
        "  def forward(self,X):\n",
        "    X = F.relu(self.d1(X))\n",
        "    X = F.relu(self.d2(X))\n",
        "    X = self.d3(X)\n",
        "\n",
        "    return F.log_softmax(X,dim=1)\n",
        "    \n"
      ],
      "execution_count": 4,
      "outputs": []
    },
    {
      "cell_type": "code",
      "metadata": {
        "colab": {
          "base_uri": "https://localhost:8080/"
        },
        "id": "Nhe1ZxzMaxay",
        "outputId": "fe74022e-3eac-4b8d-f6be-5185e352a947"
      },
      "source": [
        "model = MultilayerPerceptron()\n",
        "print(model)"
      ],
      "execution_count": 5,
      "outputs": [
        {
          "output_type": "stream",
          "name": "stdout",
          "text": [
            "MultilayerPerceptron(\n",
            "  (d1): Linear(in_features=784, out_features=120, bias=True)\n",
            "  (d2): Linear(in_features=120, out_features=84, bias=True)\n",
            "  (d3): Linear(in_features=84, out_features=10, bias=True)\n",
            ")\n"
          ]
        }
      ]
    },
    {
      "cell_type": "code",
      "metadata": {
        "id": "pyVswW9pa4c-"
      },
      "source": [
        "#define cross entropy loss and optimizer\n",
        "learning_rate = 0.001\n",
        "loss = nn.CrossEntropyLoss()\n",
        "optimizer = torch.optim.Adam(model.parameters(), lr=learning_rate)"
      ],
      "execution_count": 6,
      "outputs": []
    },
    {
      "cell_type": "markdown",
      "metadata": {
        "id": "RdTusViPbN-d"
      },
      "source": [
        "**Training the Neural Network**"
      ]
    },
    {
      "cell_type": "code",
      "metadata": {
        "colab": {
          "base_uri": "https://localhost:8080/"
        },
        "id": "PTMjkZczbUIN",
        "outputId": "3b013040-ede9-42cf-a7c5-567e4f249aec"
      },
      "source": [
        "epochs = 50\n",
        "train_losses = []\n",
        "test_losses = []\n",
        "train_correct = []\n",
        "test_correct = []\n",
        "\n",
        "iteration = 0\n",
        "for i in range(epochs):\n",
        "  train_crr = 0\n",
        "  test_crr = 0\n",
        "\n",
        "  for iteration,(x_train, y_train) in enumerate(train_loader):\n",
        "    iteration += 1\n",
        "\n",
        "    # Apply the Model\n",
        "    y_pred = model(x_train.view(100,-1))\n",
        "    new_loss = loss(y_pred,y_train)\n",
        "\n",
        "    predicted = torch.max(y_pred.data,1)[1]\n",
        "    batch_correct = (predicted == y_train).sum()\n",
        "    train_crr += batch_correct\n",
        "\n",
        "    # update parameters\n",
        "    optimizer.zero_grad()\n",
        "    new_loss.backward()\n",
        "    optimizer.step()\n",
        "\n",
        "  train_losses.append(new_loss)\n",
        "  train_correct.append(train_crr)\n",
        "\n",
        "# run the test dataset\n",
        "  with torch.no_grad():\n",
        "    for iteration,(x_test,y_test) in enumerate(test_loader):\n",
        "\n",
        "      #apply the model \n",
        "      y_validation = model(x_test.view(500,-1))\n",
        "      new2_loss = loss(y_validation,y_test)\n",
        "\n",
        "      predicted = torch.max(y_validation,1)[1]\n",
        "      test_crr += (predicted == y_test).sum()\n",
        "      #accuracy = 100*test_crr/len(test_loader)\n",
        "\n",
        "\n",
        "      if iteration % 600 == 0:\n",
        "        print(f'epoch: {i:2} Validation Loss: {new2_loss.item():10.8f} Test Accuracy: {(test_crr.item()*200/1000)}%')\n",
        "\n",
        "  test_losses.append(new2_loss)\n",
        "  test_correct.append(test_crr)\n",
        "\n"
      ],
      "execution_count": 7,
      "outputs": [
        {
          "output_type": "stream",
          "name": "stdout",
          "text": [
            "epoch:  0 Validation Loss: 0.18832950 Test Accuracy: 94.6%\n",
            "epoch:  1 Validation Loss: 0.11133634 Test Accuracy: 96.4%\n",
            "epoch:  2 Validation Loss: 0.09160961 Test Accuracy: 97.8%\n",
            "epoch:  3 Validation Loss: 0.08017974 Test Accuracy: 97.4%\n",
            "epoch:  4 Validation Loss: 0.07281042 Test Accuracy: 97.8%\n",
            "epoch:  5 Validation Loss: 0.06797275 Test Accuracy: 98.0%\n",
            "epoch:  6 Validation Loss: 0.08186118 Test Accuracy: 97.2%\n",
            "epoch:  7 Validation Loss: 0.07903555 Test Accuracy: 97.8%\n",
            "epoch:  8 Validation Loss: 0.08958301 Test Accuracy: 97.8%\n",
            "epoch:  9 Validation Loss: 0.06620428 Test Accuracy: 97.4%\n",
            "epoch: 10 Validation Loss: 0.05371802 Test Accuracy: 98.2%\n",
            "epoch: 11 Validation Loss: 0.10430393 Test Accuracy: 97.6%\n",
            "epoch: 12 Validation Loss: 0.05883665 Test Accuracy: 98.0%\n",
            "epoch: 13 Validation Loss: 0.09760056 Test Accuracy: 97.4%\n",
            "epoch: 14 Validation Loss: 0.10647403 Test Accuracy: 97.6%\n",
            "epoch: 15 Validation Loss: 0.10555209 Test Accuracy: 97.8%\n",
            "epoch: 16 Validation Loss: 0.10178598 Test Accuracy: 98.2%\n",
            "epoch: 17 Validation Loss: 0.10779075 Test Accuracy: 98.4%\n",
            "epoch: 18 Validation Loss: 0.10866541 Test Accuracy: 97.4%\n",
            "epoch: 19 Validation Loss: 0.09343676 Test Accuracy: 98.6%\n",
            "epoch: 20 Validation Loss: 0.09177598 Test Accuracy: 98.4%\n",
            "epoch: 21 Validation Loss: 0.12109874 Test Accuracy: 97.8%\n",
            "epoch: 22 Validation Loss: 0.07228605 Test Accuracy: 98.6%\n",
            "epoch: 23 Validation Loss: 0.10595370 Test Accuracy: 98.4%\n",
            "epoch: 24 Validation Loss: 0.10782932 Test Accuracy: 97.8%\n",
            "epoch: 25 Validation Loss: 0.08790773 Test Accuracy: 97.8%\n",
            "epoch: 26 Validation Loss: 0.10153674 Test Accuracy: 98.2%\n",
            "epoch: 27 Validation Loss: 0.08385332 Test Accuracy: 98.2%\n",
            "epoch: 28 Validation Loss: 0.10262213 Test Accuracy: 98.2%\n",
            "epoch: 29 Validation Loss: 0.08652352 Test Accuracy: 98.4%\n",
            "epoch: 30 Validation Loss: 0.07854968 Test Accuracy: 98.8%\n",
            "epoch: 31 Validation Loss: 0.10445951 Test Accuracy: 98.0%\n",
            "epoch: 32 Validation Loss: 0.11587277 Test Accuracy: 98.2%\n",
            "epoch: 33 Validation Loss: 0.07531196 Test Accuracy: 98.4%\n",
            "epoch: 34 Validation Loss: 0.08436730 Test Accuracy: 98.6%\n",
            "epoch: 35 Validation Loss: 0.11532682 Test Accuracy: 97.8%\n",
            "epoch: 36 Validation Loss: 0.14455125 Test Accuracy: 97.4%\n",
            "epoch: 37 Validation Loss: 0.07922737 Test Accuracy: 98.4%\n",
            "epoch: 38 Validation Loss: 0.13221002 Test Accuracy: 98.0%\n",
            "epoch: 39 Validation Loss: 0.15427808 Test Accuracy: 98.2%\n",
            "epoch: 40 Validation Loss: 0.11029048 Test Accuracy: 98.2%\n",
            "epoch: 41 Validation Loss: 0.07410637 Test Accuracy: 98.6%\n",
            "epoch: 42 Validation Loss: 0.12495005 Test Accuracy: 98.2%\n",
            "epoch: 43 Validation Loss: 0.14257045 Test Accuracy: 97.8%\n",
            "epoch: 44 Validation Loss: 0.07803273 Test Accuracy: 98.6%\n",
            "epoch: 45 Validation Loss: 0.07248744 Test Accuracy: 99.0%\n",
            "epoch: 46 Validation Loss: 0.09340516 Test Accuracy: 99.0%\n",
            "epoch: 47 Validation Loss: 0.12324760 Test Accuracy: 98.0%\n",
            "epoch: 48 Validation Loss: 0.08504917 Test Accuracy: 98.4%\n",
            "epoch: 49 Validation Loss: 0.08551107 Test Accuracy: 98.2%\n"
          ]
        }
      ]
    },
    {
      "cell_type": "code",
      "metadata": {
        "colab": {
          "base_uri": "https://localhost:8080/"
        },
        "id": "WUkxbHiCG9W1",
        "outputId": "a6d99f3f-26b4-420d-d471-1adecd66701c"
      },
      "source": [
        "#for Train \n",
        "for i in range(epochs):\n",
        "\n",
        "  for iteration,(x_train, y_train) in enumerate(train_loader):\n",
        "    iteration += 1\n",
        "\n",
        "    # Apply the Model\n",
        "    y_pred = model(x_train.view(100,-1))\n",
        "    new_loss = loss(y_pred,y_train)\n",
        "\n",
        "    predicted = torch.max(y_pred.data,1)[1]\n",
        "    batch_correct = (predicted == y_train).sum()\n",
        "    train_crr += batch_correct\n",
        "\n",
        "    if iteration % 600 == 0:\n",
        "        print(f'epoch: {i:2} Train Loss: {new_loss.item():10.8f}')\n",
        "\n",
        "    # update parameters\n",
        "    optimizer.zero_grad()\n",
        "    new_loss.backward()\n",
        "    optimizer.step()\n",
        "\n",
        "  train_losses.append(new_loss)\n",
        "  train_correct.append(train_crr)"
      ],
      "execution_count": 8,
      "outputs": [
        {
          "output_type": "stream",
          "name": "stdout",
          "text": [
            "epoch:  0 Train Loss: 0.01708739\n",
            "epoch:  1 Train Loss: 0.00015567\n",
            "epoch:  2 Train Loss: 0.00032915\n",
            "epoch:  3 Train Loss: 0.00020012\n",
            "epoch:  4 Train Loss: 0.00002150\n",
            "epoch:  5 Train Loss: 0.00000734\n",
            "epoch:  6 Train Loss: 0.00348270\n",
            "epoch:  7 Train Loss: 0.00000726\n",
            "epoch:  8 Train Loss: 0.00791215\n",
            "epoch:  9 Train Loss: 0.00045472\n",
            "epoch: 10 Train Loss: 0.00000020\n",
            "epoch: 11 Train Loss: 0.00202290\n",
            "epoch: 12 Train Loss: 0.00000728\n",
            "epoch: 13 Train Loss: 0.01574012\n",
            "epoch: 14 Train Loss: 0.01857161\n",
            "epoch: 15 Train Loss: 0.00007251\n",
            "epoch: 16 Train Loss: 0.00034478\n",
            "epoch: 17 Train Loss: 0.00674353\n",
            "epoch: 18 Train Loss: 0.00241269\n",
            "epoch: 19 Train Loss: 0.00001752\n",
            "epoch: 20 Train Loss: 0.03316377\n",
            "epoch: 21 Train Loss: 0.00000067\n",
            "epoch: 22 Train Loss: 0.01126305\n",
            "epoch: 23 Train Loss: 0.00002534\n",
            "epoch: 24 Train Loss: 0.00000099\n",
            "epoch: 25 Train Loss: 0.00111296\n",
            "epoch: 26 Train Loss: 0.00006940\n",
            "epoch: 27 Train Loss: 0.00004762\n",
            "epoch: 28 Train Loss: 0.00005163\n",
            "epoch: 29 Train Loss: 0.02792400\n",
            "epoch: 30 Train Loss: 0.00000172\n",
            "epoch: 31 Train Loss: 0.00017101\n",
            "epoch: 32 Train Loss: 0.00000446\n",
            "epoch: 33 Train Loss: 0.00004356\n",
            "epoch: 34 Train Loss: 0.00000672\n",
            "epoch: 35 Train Loss: 0.00000003\n",
            "epoch: 36 Train Loss: 0.00001261\n",
            "epoch: 37 Train Loss: 0.00009508\n",
            "epoch: 38 Train Loss: 0.00000192\n",
            "epoch: 39 Train Loss: 0.00006658\n",
            "epoch: 40 Train Loss: 0.00000641\n",
            "epoch: 41 Train Loss: 0.00000139\n",
            "epoch: 42 Train Loss: 0.01231988\n",
            "epoch: 43 Train Loss: 0.00005605\n",
            "epoch: 44 Train Loss: 0.00000218\n",
            "epoch: 45 Train Loss: 0.00000233\n",
            "epoch: 46 Train Loss: 0.00001291\n",
            "epoch: 47 Train Loss: 0.00059392\n",
            "epoch: 48 Train Loss: 0.00000002\n",
            "epoch: 49 Train Loss: 0.00006880\n"
          ]
        }
      ]
    },
    {
      "cell_type": "markdown",
      "metadata": {
        "id": "_28OjpZ9n2hH"
      },
      "source": [
        "**Training Curve**"
      ]
    },
    {
      "cell_type": "code",
      "metadata": {
        "colab": {
          "base_uri": "https://localhost:8080/",
          "height": 298
        },
        "id": "O_0AD7sjIe9M",
        "outputId": "2a672b0b-d3b6-45e0-8f38-6ed301937497"
      },
      "source": [
        "plt.plot(train_losses,label='Trainig Loss')\n",
        "plt.plot(test_losses,label='Validation Loss')\n",
        "plt.title('Training Curve')\n",
        "plt.legend(('Trainig Loss', 'Validation Loss'))\n",
        "plt.show\n",
        "\n",
        "\n"
      ],
      "execution_count": 9,
      "outputs": [
        {
          "output_type": "execute_result",
          "data": {
            "text/plain": [
              "<function matplotlib.pyplot.show>"
            ]
          },
          "metadata": {},
          "execution_count": 9
        },
        {
          "output_type": "display_data",
          "data": {
            "image/png": "[encoded data removed]",
            "text/plain": [
              "<Figure size 432x288 with 1 Axes>"
            ]
          },
          "metadata": {
            "needs_background": "light"
          }
        }
      ]
    },
    {
      "cell_type": "markdown",
      "metadata": {
        "id": "l2WoMQ-v8FIA"
      },
      "source": [
        "Karşılaştırma: Error sonucu 0.98 gelmiştir.SVM ile eğitmemiz sonucunda 0.91 gelmişti. Bu demek oluyor ki neural network kullanarak daha sağlıklı sonuçlar elde ediyoruz."
      ]
    },
    {
      "cell_type": "code",
      "metadata": {
        "id": "jMQuakI_8reE"
      },
      "source": [
        ""
      ],
      "execution_count": null,
      "outputs": []
    }
  ]
}